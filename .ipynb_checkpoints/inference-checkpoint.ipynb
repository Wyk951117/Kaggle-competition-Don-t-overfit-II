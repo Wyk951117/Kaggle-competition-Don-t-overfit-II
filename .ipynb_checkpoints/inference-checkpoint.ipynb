{
 "cells": [
  {
   "cell_type": "markdown",
   "metadata": {},
   "source": [
    "## Inference for Competition \"Don't Overfit\""
   ]
  },
  {
   "cell_type": "markdown",
   "metadata": {},
   "source": [
    "### 1. Import package"
   ]
  },
  {
   "cell_type": "code",
   "execution_count": 1,
   "metadata": {},
   "outputs": [],
   "source": [
    "import pandas as pd\n",
    "import numpy as np\n",
    "from matplotlib import pyplot as plt"
   ]
  },
  {
   "cell_type": "markdown",
   "metadata": {},
   "source": [
    "### 2. Data Analysis\n",
    "This data analysis partly referenced a hot kernel of this competition on kaggle: [Tutorial on Esemble Learning](https://www.kaggle.com/mjbahmani/tutorial-on-ensemble-learning-don-t-overfit)."
   ]
  },
  {
   "cell_type": "code",
   "execution_count": 2,
   "metadata": {},
   "outputs": [],
   "source": [
    "# import data\n",
    "train_data = pd.read_csv(\"./Data/train.csv\")\n",
    "test_data = pd.read_csv(\"./Data/train.csv\")"
   ]
  },
  {
   "cell_type": "markdown",
   "metadata": {},
   "source": [
    "#### Label Distribution:"
   ]
  },
  {
   "cell_type": "code",
   "execution_count": 5,
   "metadata": {},
   "outputs": [
    {
     "data": {
      "text/plain": [
       "<matplotlib.axes._subplots.AxesSubplot at 0x1411641f668>"
      ]
     },
     "execution_count": 5,
     "metadata": {},
     "output_type": "execute_result"
    },
    {
     "data": {
      "image/png": "[encoded data removed]",
      "text/plain": [
       "<Figure size 432x288 with 1 Axes>"
      ]
     },
     "metadata": {
      "needs_background": "light"
     },
     "output_type": "display_data"
    }
   ],
   "source": [
    "train_data['target'].value_counts().plot.bar()"
   ]
  },
  {
   "cell_type": "markdown",
   "metadata": {},
   "source": [
    "Quite obvious class-imbalance can be spotted above, which means we might want to deal with this problem later."
   ]
  },
  {
   "cell_type": "markdown",
   "metadata": {},
   "source": [
    "#### Feature Distribution:\n",
    "According to the evaluation results of the [kernel](https://www.kaggle.com/mjbahmani/tutorial-on-ensemble-learning-don-t-overfit) mentioned above, the distributions of almost all the feautures (even when they are mixed together) follow shapes similar to that of gaussian distribution. _It might make sense to compare the distributions of each feature based on their label (target). Considering that I have quite limited time for this game, I write down these sentences in Italian and it might remind me of that sometime later._"
   ]
  },
  {
   "cell_type": "markdown",
   "metadata": {},
   "source": [
    "### 3. Model Selection\n",
    "The author of the [kernel](https://www.kaggle.com/mjbahmani/tutorial-on-ensemble-learning-don-t-overfit) listed above mentioned a category of ensemble models (techniques), but I kind of want to stop following his step and try some models I'm interested in. Of course bagging and boosting are something to try since they are so intuitive when talking about __\"overfit\"__. Additionally I might also try SVM, GD (gradient descent) and their variants. During the following paragraphs I'll discuss __(review)__ these algorithms or models one by one and try them out."
   ]
  },
  {
   "cell_type": "markdown",
   "metadata": {},
   "source": [
    "#### 1. Bagging, Boosting and Comparison\n",
    "First of all, around 80% of all my (future) analysis would be based on or directly coming from the course Machine Learning for Intelligent Systems I took 2018 Fall provided by professor Kilian Weinberger at Cornell University; 50% of the remaining would be based on the course Large Scale Machine Learning I'm currently (2019 SP) enrolling in provided by professor Christopher De Sa at CU. I'm writing this because I don't want to have trouble about copyright or something."
   ]
  }
 ],
 "metadata": {
  "kernelspec": {
   "display_name": "Python 3",
   "language": "python",
   "name": "python3"
  },
  "language_info": {
   "codemirror_mode": {
    "name": "ipython",
    "version": 3
   },
   "file_extension": ".py",
   "mimetype": "text/x-python",
   "name": "python",
   "nbconvert_exporter": "python",
   "pygments_lexer": "ipython3",
   "version": "3.7.0"
  }
 },
 "nbformat": 4,
 "nbformat_minor": 2
}
