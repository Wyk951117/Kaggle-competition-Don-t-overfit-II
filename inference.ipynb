{
 "cells": [
  {
   "cell_type": "markdown",
   "metadata": {},
   "source": [
    "## Inference for Competition \"Don't Overfit\""
   ]
  },
  {
   "cell_type": "markdown",
   "metadata": {},
   "source": [
    "### 1. Import package"
   ]
  },
  {
   "cell_type": "code",
   "execution_count": 14,
   "metadata": {},
   "outputs": [],
   "source": [
    "import pandas as pd\n",
    "import numpy as np\n",
    "\n",
    "from matplotlib import pyplot as plt\n",
    "\n",
    "from sklearn.metrics import classification_report, confusion_matrix\n",
    "from sklearn.metrics import accuracy_score"
   ]
  },
  {
   "cell_type": "markdown",
   "metadata": {},
   "source": [
    "### 2. Data Analysis\n",
    "This data analysis partly referenced a hot kernel of this competition on kaggle: [Tutorial on Esemble Learning](https://www.kaggle.com/mjbahmani/tutorial-on-ensemble-learning-don-t-overfit)."
   ]
  },
  {
   "cell_type": "code",
   "execution_count": 47,
   "metadata": {},
   "outputs": [],
   "source": [
    "# import data\n",
    "train_data = pd.read_csv(\"./Data/train.csv\")\n",
    "test_data = pd.read_csv(\"./Data/test.csv\")"
   ]
  },
  {
   "cell_type": "markdown",
   "metadata": {},
   "source": [
    "#### Label Distribution:"
   ]
  },
  {
   "cell_type": "code",
   "execution_count": 48,
   "metadata": {},
   "outputs": [
    {
     "data": {
      "text/plain": [
       "<matplotlib.axes._subplots.AxesSubplot at 0x1411a608eb8>"
      ]
     },
     "execution_count": 48,
     "metadata": {},
     "output_type": "execute_result"
    },
    {
     "data": {
      "image/png": "[encoded data removed]",
      "text/plain": [
       "<Figure size 432x288 with 1 Axes>"
      ]
     },
     "metadata": {
      "needs_background": "light"
     },
     "output_type": "display_data"
    }
   ],
   "source": [
    "train_data['target'].value_counts().plot.bar()"
   ]
  },
  {
   "cell_type": "markdown",
   "metadata": {},
   "source": [
    "Quite obvious class-imbalance can be spotted above, which means we might want to deal with this problem later."
   ]
  },
  {
   "cell_type": "markdown",
   "metadata": {},
   "source": [
    "#### Feature Distribution:\n",
    "According to the evaluation results of the [kernel](https://www.kaggle.com/mjbahmani/tutorial-on-ensemble-learning-don-t-overfit) mentioned above, the distributions of almost all the feautures (even when they are mixed together) follow shapes similar to that of gaussian distribution. _It might make sense to compare the distributions of each feature based on their label (target). Considering that I have quite limited time for this game, I write down these sentences in Italian and it might remind me of that sometime later._"
   ]
  },
  {
   "cell_type": "code",
   "execution_count": 50,
   "metadata": {},
   "outputs": [],
   "source": [
    "# split train/test data\n",
    "from sklearn.model_selection import train_test_split\n",
    "X = train_data.drop([\"target\",\"id\"], axis=1)\n",
    "Y = train_data[\"target\"]\n",
    "X_train, X_val, Y_train, Y_val = train_test_split(X, Y, test_size=0.2, random_state=0)\n",
    "X_test = test_data.drop(\"id\", axis=1)"
   ]
  },
  {
   "cell_type": "markdown",
   "metadata": {},
   "source": [
    "### 3. Model Selection\n",
    "The author of the [kernel](https://www.kaggle.com/mjbahmani/tutorial-on-ensemble-learning-don-t-overfit) listed above mentioned a category of ensemble models (techniques), but I kind of want to stop following his step and try some models I'm interested in. Of course bagging and boosting are something to try since they are so intuitive when talking about __\"overfit\"__. Additionally I might also try SVM, GD (gradient descent) and their variants. During the following paragraphs I'll discuss __(review)__ these algorithms or models one by one and try them out."
   ]
  },
  {
   "cell_type": "markdown",
   "metadata": {},
   "source": [
    "#### 1. Bagging, Boosting and Comparison\n",
    "First of all, around 80% of all my (future) analysis would be based on or directly coming from the course [Machine Learning for Intelligent Systems](http://www.cs.cornell.edu/courses/cs4780/2018fa/) I took 2018 Fall provided by professor [Kilian Q. Weinberger](http://kilian.cs.cornell.edu/) at Cornell University; 50% of the remaining would be based on the course [Principles of Large Scale Machine Learning](http://www.cs.cornell.edu/courses/cs4780/2018fa/) I'm currently (2019 SP) enrolling in provided by professor Christopher De Sa at CU. I'm writing this because I don't want to have trouble about copyright or something(of course I will not)."
   ]
  },
  {
   "cell_type": "markdown",
   "metadata": {},
   "source": [
    "##### Bagging\n",
    "The goal of using bagging is usually reduce the __variance__ of a model, which generally means the error cause by dataset with limited representing capability of the whole distribution we assume our data have (which is in most cases true). In other words, variance exists because the model (classifier) is too \"specialized\" about the dataset we provide, which cause overfit.  \n",
    "  \n",
    "The intuition that Bagging will work is based on the __Weak Law of Large Numbers__, which generally says states that for i.i.d radom variables sampled from a certain distribution, as the number of these random variables approach infinity, their mean can be a good approximation of the estimation of this distribution.    \n",
    "\n",
    "Based on this law, people try to \"procude\" as many as possible \"datasets\" to train as many as possible classifiers, so that the average of these classifers can be a good approximation of the ultimate model we are looking for. The way to produce many \"datasets\" is sampling (with replacement) from the only datasets we have.  \n",
    "  \n",
    "  Implement the most famous Bagging variant Random Forest Classifier:"
   ]
  },
  {
   "cell_type": "code",
   "execution_count": 73,
   "metadata": {},
   "outputs": [
    {
     "name": "stdout",
     "output_type": "stream",
     "text": [
      "              precision    recall  f1-score   support\n",
      "\n",
      "         0.0       1.00      1.00      1.00        19\n",
      "         1.0       1.00      1.00      1.00        31\n",
      "\n",
      "   micro avg       1.00      1.00      1.00        50\n",
      "   macro avg       1.00      1.00      1.00        50\n",
      "weighted avg       1.00      1.00      1.00        50\n",
      "\n",
      "Confusion Matrix:\n",
      " [[19  0]\n",
      " [ 0 31]]\n",
      "Accuracy: 1.0\n"
     ]
    }
   ],
   "source": [
    "from sklearn.ensemble import RandomForestClassifier as RandomForest\n",
    "\n",
    "\"\"\"\n",
    "as for model parameters, max depth is set to default, which you can also say\n",
    "infinity because it will split until all leaves are pure, which overfits\n",
    "hell. On the other hand, I'll try to have as many trees as possible.\n",
    "The number of features to consider for each split is square root of the number\n",
    "of all features.\n",
    "\"\"\"\n",
    "cls = RandomForest(n_estimators=100, max_features=\"sqrt\")\n",
    "cls.fit(X, Y)\n",
    "y_pred = cls.predict(X_val)\n",
    "print(classification_report(y_pred, Y_val))\n",
    "print(\"Confusion Matrix:\\n\",confusion_matrix(y_pred, Y_val))\n",
    "print(\"Accuracy: {}\".format(accuracy_score(y_pred, Y_val)))"
   ]
  },
  {
   "cell_type": "code",
   "execution_count": 74,
   "metadata": {},
   "outputs": [],
   "source": [
    "# create submission file\n",
    "prediction = cls.predict(X_test)\n",
    "result = pd.DataFrame(prediction, columns=[\"target\"], dtype=int)\n",
    "result.index = range(250,20000)\n",
    "result.to_csv(\"./data/result.csv\")"
   ]
  },
  {
   "cell_type": "code",
   "execution_count": null,
   "metadata": {},
   "outputs": [],
   "source": []
  }
 ],
 "metadata": {
  "kernelspec": {
   "display_name": "Python 3",
   "language": "python",
   "name": "python3"
  },
  "language_info": {
   "codemirror_mode": {
    "name": "ipython",
    "version": 3
   },
   "file_extension": ".py",
   "mimetype": "text/x-python",
   "name": "python",
   "nbconvert_exporter": "python",
   "pygments_lexer": "ipython3",
   "version": "3.7.0"
  }
 },
 "nbformat": 4,
 "nbformat_minor": 2
}
